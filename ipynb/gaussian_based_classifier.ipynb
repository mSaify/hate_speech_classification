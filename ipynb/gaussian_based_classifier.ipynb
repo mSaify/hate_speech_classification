{
  "nbformat": 4,
  "nbformat_minor": 0,
  "metadata": {
    "colab": {
      "name": "Gaussian based classifier.ipynb",
      "provenance": [],
      "collapsed_sections": []
    },
    "kernelspec": {
      "name": "python3",
      "display_name": "Python 3"
    }
  },
  "cells": [
    {
      "cell_type": "code",
      "metadata": {
        "id": "rMNaiHqGkwv3",
        "colab_type": "code",
        "outputId": "304d4e63-e075-4b17-b8b9-833da8c35217",
        "colab": {
          "base_uri": "https://localhost:8080/",
          "height": 506
        }
      },
      "source": [
        "\n",
        "import pandas as pd\n",
        "import numpy as np\n",
        "import pickle\n",
        "import sys\n",
        "from sklearn.feature_extraction.text import TfidfVectorizer\n",
        "import nltk\n",
        "from nltk.corpus import stopwords\n",
        "from nltk.stem.porter import *\n",
        "import string\n",
        "from sklearn.linear_model import LogisticRegression\n",
        "from sklearn.feature_selection import SelectFromModel\n",
        "from sklearn.metrics import classification_report\n",
        "from sklearn.svm import LinearSVC\n",
        "import matplotlib.pyplot as plt\n",
        "import seaborn\n",
        "import spacy #pos tagging nltk\n",
        "import nltk\n",
        "nltk.download('stopwords')\n",
        "\n",
        "import pandas as pd\n",
        "from sklearn import datasets, linear_model\n",
        "from sklearn.model_selection import train_test_split\n",
        "from matplotlib import pyplot as plt\n",
        "\n",
        "from sklearn.model_selection import StratifiedKFold, GridSearchCV\n",
        "from sklearn.pipeline import Pipeline\n",
        "\n",
        "df = pd.read_csv(\"labeled_data.csv\")\n",
        "df.loc[1]['tweet']\n",
        "#df.loc[1]\n",
        "df.count\n",
        "df['class'].hist()\n",
        "df.describe()\n",
        "\n",
        "tweets=df.tweet\n",
        "\n",
        "tweets\n"
      ],
      "execution_count": 0,
      "outputs": [
        {
          "output_type": "stream",
          "text": [
            "[nltk_data] Downloading package stopwords to /root/nltk_data...\n",
            "[nltk_data]   Package stopwords is already up-to-date!\n"
          ],
          "name": "stdout"
        },
        {
          "output_type": "execute_result",
          "data": {
            "text/plain": [
              "0        !!! RT @mayasolovely: As a woman you shouldn't...\n",
              "1        !!!!! RT @mleew17: boy dats cold...tyga dwn ba...\n",
              "2        !!!!!!! RT @UrKindOfBrand Dawg!!!! RT @80sbaby...\n",
              "3        !!!!!!!!! RT @C_G_Anderson: @viva_based she lo...\n",
              "4        !!!!!!!!!!!!! RT @ShenikaRoberts: The shit you...\n",
              "                               ...                        \n",
              "24778    you's a muthaf***in lie &#8220;@LifeAsKing: @2...\n",
              "24779    you've gone and broke the wrong heart baby, an...\n",
              "24780    young buck wanna eat!!.. dat nigguh like I ain...\n",
              "24781                youu got wild bitches tellin you lies\n",
              "24782    ~~Ruffled | Ntac Eileen Dahlia - Beautiful col...\n",
              "Name: tweet, Length: 24783, dtype: object"
            ]
          },
          "metadata": {
            "tags": []
          },
          "execution_count": 3
        },
        {
          "output_type": "display_data",
          "data": {
            "image/png": "[encoded data removed]",
            "text/plain": [
              "<Figure size 432x288 with 1 Axes>"
            ]
          },
          "metadata": {
            "tags": []
          }
        }
      ]
    },
    {
      "cell_type": "code",
      "metadata": {
        "id": "C9U7Y0iJmAqR",
        "colab_type": "code",
        "outputId": "873385e1-d03c-4b35-f3f1-e3dc61ea4e55",
        "colab": {
          "base_uri": "https://localhost:8080/",
          "height": 105
        }
      },
      "source": [
        "stopwords=stopwords = nltk.corpus.stopwords.words(\"english\")\n",
        "\n",
        "other_exclusions = [\"#ff\", \"ff\", \"rt\"]\n",
        "stopwords.extend(other_exclusions)\n",
        "\n",
        "stemmer = PorterStemmer()\n",
        "\n",
        "\n",
        "def preprocess(text_string):\n",
        "    \"\"\"\n",
        "    Accepts a text string and replaces:\n",
        "    1) urls with URLHERE\n",
        "    2) lots of whitespace with one instance\n",
        "    3) mentions with MENTIONHERE\n",
        "\n",
        "    This allows us to get standardized counts of urls and mentions\n",
        "    Without caring about specific people mentioned\n",
        "    \"\"\"\n",
        "    space_pattern = '\\s+'\n",
        "    giant_url_regex = ('http[s]?://(?:[a-zA-Z]|[0-9]|[$-_@.&+]|'\n",
        "        '[!*\\(\\),]|(?:%[0-9a-fA-F][0-9a-fA-F]))+')\n",
        "    mention_regex = '@[\\w\\-]+'\n",
        "    parsed_text = re.sub(space_pattern, ' ', text_string)\n",
        "    parsed_text = re.sub(giant_url_regex, '', parsed_text)\n",
        "    parsed_text = re.sub(mention_regex, '', parsed_text)\n",
        "    return parsed_text\n",
        "\n",
        "def tokenize(tweet):\n",
        "    \"\"\"Removes punctuation & excess whitespace, sets to lowercase,\n",
        "    and stems tweets. Returns a list of stemmed tokens.\"\"\"\n",
        "    tweet = \" \".join(re.split(\"[^a-zA-Z]*\", tweet.lower())).strip()\n",
        "    tokens = [stemmer.stem(t) for t in tweet.split()]\n",
        "    return tokens\n",
        "\n",
        "def basic_tokenize(tweet):\n",
        "    \"\"\"Same as tokenize but without the stemming\"\"\"\n",
        "    tweet = \" \".join(re.split(\"[^a-zA-Z.,!?]*\", tweet.lower())).strip()\n",
        "    return tweet.split()\n",
        "\n",
        "vectorizer = TfidfVectorizer(\n",
        "    tokenizer=tokenize,\n",
        "    preprocessor=preprocess,\n",
        "    ngram_range=(1, 3),\n",
        "    stop_words=stopwords,\n",
        "    use_idf=True,\n",
        "    smooth_idf=True,\n",
        "    norm=None,\n",
        "    decode_error='replace',\n",
        "    max_features=10000,\n",
        "    min_df=5,\n",
        "    max_df=0.75\n",
        "    )\n",
        "\n",
        "\n",
        "tfidf = vectorizer.fit_transform(tweets).toarray()"
      ],
      "execution_count": 0,
      "outputs": [
        {
          "output_type": "stream",
          "text": [
            "/usr/lib/python3.6/re.py:212: FutureWarning: split() requires a non-empty pattern match.\n",
            "  return _compile(pattern, flags).split(string, maxsplit)\n",
            "/usr/local/lib/python3.6/dist-packages/sklearn/feature_extraction/text.py:300: UserWarning: Your stop_words may be inconsistent with your preprocessing. Tokenizing the stop words generated tokens ['abov', 'ani', 'becaus', 'befor', 'doe', 'dure', 'ha', 'hi', 'onc', 'onli', 'ourselv', 'themselv', 'thi', 'veri', 'wa', 'whi', 'yourselv'] not in stop_words.\n",
            "  'stop_words.' % sorted(inconsistent))\n"
          ],
          "name": "stderr"
        }
      ]
    },
    {
      "cell_type": "markdown",
      "metadata": {
        "id": "3ZfIy_G1pUnN",
        "colab_type": "text"
      },
      "source": [
        "**Creating training and test data**"
      ]
    },
    {
      "cell_type": "code",
      "metadata": {
        "id": "o_Vkw5WtmQxc",
        "colab_type": "code",
        "colab": {}
      },
      "source": [
        "X = pd.DataFrame(tfidf)\n",
        "y = df['class'].astype(int)\n",
        "X_train, X_test, y_train, y_test = train_test_split(X, y, random_state=42, test_size=0.1)"
      ],
      "execution_count": 0,
      "outputs": []
    },
    {
      "cell_type": "code",
      "metadata": {
        "id": "ba2hCzlWxpJQ",
        "colab_type": "code",
        "colab": {}
      },
      "source": [
        "\n",
        "from sklearn.naive_bayes import GaussianNB\n",
        "from sklearn.preprocessing import StandardScaler\n",
        "pipe = Pipeline([    \n",
        "        ('gaussian', GaussianNB()) \n",
        "    ])\n",
        "grid_search = GridSearchCV(pipe, \n",
        "                           [{}],\n",
        "                           cv=StratifiedKFold(n_splits=5, \n",
        "                                              random_state=1).split(X_train, y_train), \n",
        "                           verbose=2)\n",
        "model = grid_search.fit(X_train, y_train)\n",
        "\n",
        "y_preds = model.predict(X_test)\n",
        "report = classification_report( y_test, y_preds )\n",
        "print(report)"
      ],
      "execution_count": 0,
      "outputs": []
    },
    {
      "cell_type": "markdown",
      "metadata": {
        "id": "in8-LHLspp9T",
        "colab_type": "text"
      },
      "source": [
        "**Guassian Classifier**"
      ]
    },
    {
      "cell_type": "code",
      "metadata": {
        "id": "nP8TfdojpeiY",
        "colab_type": "code",
        "outputId": "4b9d32f0-3d86-4afa-9d79-7470b5d163d1",
        "colab": {
          "base_uri": "https://localhost:8080/",
          "height": 425
        }
      },
      "source": [
        "\n",
        "from sklearn.naive_bayes import GaussianNB\n",
        "from sklearn.preprocessing import StandardScaler\n",
        "pipe = Pipeline([    \n",
        "        ('gaussian', GaussianNB()) \n",
        "    ])\n",
        "grid_search = GridSearchCV(pipe, \n",
        "                           [{}],\n",
        "                           cv=StratifiedKFold(n_splits=5, \n",
        "                                              random_state=1).split(X_train, y_train), \n",
        "                           verbose=2)\n",
        "model = grid_search.fit(X_train, y_train)\n",
        "\n",
        "y_preds = model.predict(X_test)\n",
        "report = classification_report( y_test, y_preds )\n",
        "print(report)"
      ],
      "execution_count": 0,
      "outputs": [
        {
          "output_type": "stream",
          "text": [
            "Fitting 5 folds for each of 1 candidates, totalling 5 fits\n",
            "[CV]  ................................................................\n"
          ],
          "name": "stdout"
        },
        {
          "output_type": "stream",
          "text": [
            "[Parallel(n_jobs=1)]: Using backend SequentialBackend with 1 concurrent workers.\n"
          ],
          "name": "stderr"
        },
        {
          "output_type": "stream",
          "text": [
            "[CV] ................................................. , total=   3.3s\n",
            "[CV]  ................................................................\n"
          ],
          "name": "stdout"
        },
        {
          "output_type": "stream",
          "text": [
            "[Parallel(n_jobs=1)]: Done   1 out of   1 | elapsed:    3.3s remaining:    0.0s\n"
          ],
          "name": "stderr"
        },
        {
          "output_type": "stream",
          "text": [
            "[CV] ................................................. , total=   2.9s\n",
            "[CV]  ................................................................\n",
            "[CV] ................................................. , total=   3.1s\n",
            "[CV]  ................................................................\n",
            "[CV] ................................................. , total=   3.2s\n",
            "[CV]  ................................................................\n",
            "[CV] ................................................. , total=   3.0s\n"
          ],
          "name": "stdout"
        },
        {
          "output_type": "stream",
          "text": [
            "[Parallel(n_jobs=1)]: Done   5 out of   5 | elapsed:   15.5s finished\n"
          ],
          "name": "stderr"
        },
        {
          "output_type": "stream",
          "text": [
            "              precision    recall  f1-score   support\n",
            "\n",
            "           0       0.11      0.35      0.16       164\n",
            "           1       0.90      0.70      0.79      1905\n",
            "           2       0.57      0.62      0.59       410\n",
            "\n",
            "    accuracy                           0.67      2479\n",
            "   macro avg       0.52      0.56      0.51      2479\n",
            "weighted avg       0.79      0.67      0.72      2479\n",
            "\n"
          ],
          "name": "stdout"
        }
      ]
    },
    {
      "cell_type": "code",
      "metadata": {
        "id": "-8-4cFmYnngi",
        "colab_type": "code",
        "outputId": "68ede0fd-4092-458c-c64b-fcac4ec8c5fc",
        "colab": {
          "base_uri": "https://localhost:8080/",
          "height": 425
        }
      },
      "source": [
        "\n",
        "from sklearn.naive_bayes import GaussianNB\n",
        "from sklearn.preprocessing import StandardScaler\n",
        "pipe = Pipeline([    \n",
        "        ('gaussian', GaussianNB(var_smoothing =0.000000000000000000001)) \n",
        "    ])\n",
        "grid_search = GridSearchCV(pipe, \n",
        "                           [{}],\n",
        "                           cv=StratifiedKFold(n_splits=5, \n",
        "                                              random_state=1).split(X_train, y_train), \n",
        "                           verbose=2)\n",
        "model = grid_search.fit(X_train, y_train)\n",
        "\n",
        "y_preds = model.predict(X_test)\n",
        "report = classification_report( y_test, y_preds )\n",
        "print(report)"
      ],
      "execution_count": 0,
      "outputs": [
        {
          "output_type": "stream",
          "text": [
            "Fitting 5 folds for each of 1 candidates, totalling 5 fits\n",
            "[CV]  ................................................................\n"
          ],
          "name": "stdout"
        },
        {
          "output_type": "stream",
          "text": [
            "[Parallel(n_jobs=1)]: Using backend SequentialBackend with 1 concurrent workers.\n"
          ],
          "name": "stderr"
        },
        {
          "output_type": "stream",
          "text": [
            "[CV] ................................................. , total=   2.9s\n",
            "[CV]  ................................................................\n"
          ],
          "name": "stdout"
        },
        {
          "output_type": "stream",
          "text": [
            "[Parallel(n_jobs=1)]: Done   1 out of   1 | elapsed:    2.9s remaining:    0.0s\n"
          ],
          "name": "stderr"
        },
        {
          "output_type": "stream",
          "text": [
            "[CV] ................................................. , total=   2.8s\n",
            "[CV]  ................................................................\n",
            "[CV] ................................................. , total=   2.8s\n",
            "[CV]  ................................................................\n",
            "[CV] ................................................. , total=   2.8s\n",
            "[CV]  ................................................................\n",
            "[CV] ................................................. , total=   2.8s\n"
          ],
          "name": "stdout"
        },
        {
          "output_type": "stream",
          "text": [
            "[Parallel(n_jobs=1)]: Done   5 out of   5 | elapsed:   14.1s finished\n"
          ],
          "name": "stderr"
        },
        {
          "output_type": "stream",
          "text": [
            "              precision    recall  f1-score   support\n",
            "\n",
            "           0       0.11      0.35      0.16       164\n",
            "           1       0.90      0.70      0.79      1905\n",
            "           2       0.56      0.61      0.59       410\n",
            "\n",
            "    accuracy                           0.66      2479\n",
            "   macro avg       0.52      0.55      0.51      2479\n",
            "weighted avg       0.79      0.66      0.71      2479\n",
            "\n"
          ],
          "name": "stdout"
        }
      ]
    },
    {
      "cell_type": "code",
      "metadata": {
        "id": "OkaN7zwG69js",
        "colab_type": "code",
        "colab": {}
      },
      "source": [
        "import numpy as np\n",
        "import math\n",
        "from numpy.linalg import svd\n",
        "import matplotlib.pyplot as plt\n",
        "import pandas as pd\n",
        "import sklearn.decomposition as skd\n",
        "\n",
        "def truncated_svd(input,svd_components):\n",
        "    \n",
        "  truncated = skd.TruncatedSVD(n_components=svd_components)\n",
        "    \n",
        "  return truncated.fit_transform(input)\n",
        "\n",
        "\n",
        "tfidf = truncated_svd(tfidf,100)"
      ],
      "execution_count": 0,
      "outputs": []
    },
    {
      "cell_type": "code",
      "metadata": {
        "id": "51ISPQRIsbNv",
        "colab_type": "code",
        "outputId": "5e4bba04-6509-4e0e-be6a-4205b8198a3b",
        "colab": {
          "base_uri": "https://localhost:8080/",
          "height": 765
        }
      },
      "source": [
        "classes_ = np.sort(np.unique(y))\n",
        "classes_\n",
        "data = [X_train[y == yi] for yi in classes_]\n",
        "data"
      ],
      "execution_count": 0,
      "outputs": [
        {
          "output_type": "stream",
          "text": [
            "/usr/local/lib/python3.6/dist-packages/ipykernel_launcher.py:3: UserWarning: Boolean Series key will be reindexed to match DataFrame index.\n",
            "  This is separate from the ipykernel package so we can avoid doing imports until\n"
          ],
          "name": "stderr"
        },
        {
          "output_type": "execute_result",
          "data": {
            "text/plain": [
              "[       0     1     2     3     4     5     ...  7080  7081  7082  7083  7084  7085\n",
              " 22524   0.0   0.0   0.0   0.0   0.0   0.0  ...   0.0   0.0   0.0   0.0   0.0   0.0\n",
              " 23316   0.0   0.0   0.0   0.0   0.0   0.0  ...   0.0   0.0   0.0   0.0   0.0   0.0\n",
              " 17134   0.0   0.0   0.0   0.0   0.0   0.0  ...   0.0   0.0   0.0   0.0   0.0   0.0\n",
              " 18483   0.0   0.0   0.0   0.0   0.0   0.0  ...   0.0   0.0   0.0   0.0   0.0   0.0\n",
              " 24430   0.0   0.0   0.0   0.0   0.0   0.0  ...   0.0   0.0   0.0   0.0   0.0   0.0\n",
              " ...     ...   ...   ...   ...   ...   ...  ...   ...   ...   ...   ...   ...   ...\n",
              " 16448   0.0   0.0   0.0   0.0   0.0   0.0  ...   0.0   0.0   0.0   0.0   0.0   0.0\n",
              " 11653   0.0   0.0   0.0   0.0   0.0   0.0  ...   0.0   0.0   0.0   0.0   0.0   0.0\n",
              " 8226    0.0   0.0   0.0   0.0   0.0   0.0  ...   0.0   0.0   0.0   0.0   0.0   0.0\n",
              " 23897   0.0   0.0   0.0   0.0   0.0   0.0  ...   0.0   0.0   0.0   0.0   0.0   0.0\n",
              " 11284   0.0   0.0   0.0   0.0   0.0   0.0  ...   0.0   0.0   0.0   0.0   0.0   0.0\n",
              " \n",
              " [1266 rows x 7086 columns],\n",
              "        0     1     2     3     4     5     ...  7080  7081  7082  7083  7084  7085\n",
              " 8057    0.0   0.0   0.0   0.0   0.0   0.0  ...   0.0   0.0   0.0   0.0   0.0   0.0\n",
              " 15568   0.0   0.0   0.0   0.0   0.0   0.0  ...   0.0   0.0   0.0   0.0   0.0   0.0\n",
              " 13789   0.0   0.0   0.0   0.0   0.0   0.0  ...   0.0   0.0   0.0   0.0   0.0   0.0\n",
              " 17837   0.0   0.0   0.0   0.0   0.0   0.0  ...   0.0   0.0   0.0   0.0   0.0   0.0\n",
              " 18176   0.0   0.0   0.0   0.0   0.0   0.0  ...   0.0   0.0   0.0   0.0   0.0   0.0\n",
              " ...     ...   ...   ...   ...   ...   ...  ...   ...   ...   ...   ...   ...   ...\n",
              " 11964   0.0   0.0   0.0   0.0   0.0   0.0  ...   0.0   0.0   0.0   0.0   0.0   0.0\n",
              " 5390    0.0   0.0   0.0   0.0   0.0   0.0  ...   0.0   0.0   0.0   0.0   0.0   0.0\n",
              " 860     0.0   0.0   0.0   0.0   0.0   0.0  ...   0.0   0.0   0.0   0.0   0.0   0.0\n",
              " 15795   0.0   0.0   0.0   0.0   0.0   0.0  ...   0.0   0.0   0.0   0.0   0.0   0.0\n",
              " 23654   0.0   0.0   0.0   0.0   0.0   0.0  ...   0.0   0.0   0.0   0.0   0.0   0.0\n",
              " \n",
              " [17285 rows x 7086 columns],\n",
              "        0     1     2     3     4     5     ...  7080  7081  7082  7083  7084  7085\n",
              " 313     0.0   0.0   0.0   0.0   0.0   0.0  ...   0.0   0.0   0.0   0.0   0.0   0.0\n",
              " 15530   0.0   0.0   0.0   0.0   0.0   0.0  ...   0.0   0.0   0.0   0.0   0.0   0.0\n",
              " 351     0.0   0.0   0.0   0.0   0.0   0.0  ...   0.0   0.0   0.0   0.0   0.0   0.0\n",
              " 9213    0.0   0.0   0.0   0.0   0.0   0.0  ...   0.0   0.0   0.0   0.0   0.0   0.0\n",
              " 20690   0.0   0.0   0.0   0.0   0.0   0.0  ...   0.0   0.0   0.0   0.0   0.0   0.0\n",
              " ...     ...   ...   ...   ...   ...   ...  ...   ...   ...   ...   ...   ...   ...\n",
              " 8666    0.0   0.0   0.0   0.0   0.0   0.0  ...   0.0   0.0   0.0   0.0   0.0   0.0\n",
              " 6396    0.0   0.0   0.0   0.0   0.0   0.0  ...   0.0   0.0   0.0   0.0   0.0   0.0\n",
              " 14423   0.0   0.0   0.0   0.0   0.0   0.0  ...   0.0   0.0   0.0   0.0   0.0   0.0\n",
              " 4426    0.0   0.0   0.0   0.0   0.0   0.0  ...   0.0   0.0   0.0   0.0   0.0   0.0\n",
              " 21575   0.0   0.0   0.0   0.0   0.0   0.0  ...   0.0   0.0   0.0   0.0   0.0   0.0\n",
              " \n",
              " [3753 rows x 7086 columns]]"
            ]
          },
          "metadata": {
            "tags": []
          },
          "execution_count": 21
        }
      ]
    },
    {
      "cell_type": "code",
      "metadata": {
        "id": "reLZlliOsHx5",
        "colab_type": "code",
        "outputId": "bb625d4c-a220-4284-b005-a7c508306c4d",
        "colab": {
          "base_uri": "https://localhost:8080/",
          "height": 442
        }
      },
      "source": [
        "bandwidths = 10 ** np.linspace(0, 2, 100)\n",
        "bandwidths"
      ],
      "execution_count": 0,
      "outputs": [
        {
          "output_type": "execute_result",
          "data": {
            "text/plain": [
              "array([  1.        ,   1.04761575,   1.09749877,   1.149757  ,\n",
              "         1.20450354,   1.26185688,   1.32194115,   1.38488637,\n",
              "         1.45082878,   1.51991108,   1.59228279,   1.66810054,\n",
              "         1.7475284 ,   1.83073828,   1.91791026,   2.009233  ,\n",
              "         2.10490414,   2.20513074,   2.3101297 ,   2.42012826,\n",
              "         2.53536449,   2.65608778,   2.7825594 ,   2.91505306,\n",
              "         3.05385551,   3.19926714,   3.35160265,   3.51119173,\n",
              "         3.67837977,   3.85352859,   4.03701726,   4.22924287,\n",
              "         4.43062146,   4.64158883,   4.86260158,   5.09413801,\n",
              "         5.33669923,   5.59081018,   5.85702082,   6.13590727,\n",
              "         6.42807312,   6.73415066,   7.05480231,   7.39072203,\n",
              "         7.74263683,   8.11130831,   8.49753436,   8.90215085,\n",
              "         9.32603347,   9.77009957,  10.23531022,  10.72267222,\n",
              "        11.23324033,  11.76811952,  12.32846739,  12.91549665,\n",
              "        13.53047775,  14.17474163,  14.84968262,  15.55676144,\n",
              "        16.29750835,  17.07352647,  17.88649529,  18.73817423,\n",
              "        19.6304065 ,  20.56512308,  21.5443469 ,  22.5701972 ,\n",
              "        23.64489413,  24.77076356,  25.95024211,  27.18588243,\n",
              "        28.48035868,  29.8364724 ,  31.2571585 ,  32.74549163,\n",
              "        34.30469286,  35.93813664,  37.64935807,  39.44206059,\n",
              "        41.320124  ,  43.28761281,  45.34878508,  47.50810162,\n",
              "        49.77023564,  52.14008288,  54.62277218,  57.22367659,\n",
              "        59.94842503,  62.80291442,  65.79332247,  68.92612104,\n",
              "        72.20809018,  75.64633276,  79.24828984,  83.02175681,\n",
              "        86.97490026,  91.11627561,  95.45484567, 100.        ])"
            ]
          },
          "metadata": {
            "tags": []
          },
          "execution_count": 16
        }
      ]
    }
  ]
}